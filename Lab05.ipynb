{
  "cells": [
    {
      "cell_type": "markdown",
      "metadata": {
        "id": "view-in-github",
        "colab_type": "text"
      },
      "source": [
        "<a href=\"https://colab.research.google.com/github/StrategicalIT/PipedPiperAI/blob/main/Lab05.ipynb\" target=\"_parent\"><img src=\"https://colab.research.google.com/assets/colab-badge.svg\" alt=\"Open In Colab\"/></a>"
      ]
    },
    {
      "cell_type": "markdown",
      "id": "a6cae130-b662-46d8-9b14-da63c83f8b31",
      "metadata": {
        "id": "a6cae130-b662-46d8-9b14-da63c83f8b31"
      },
      "source": [
        "# LAB5: Exploring ChromaDB\n",
        "In this lab we are going to use Python to get familiar with the vector databases and in particular with ChromaDB\n",
        "\n",
        "The most basic operations in vector databases include adding embeddings to the database and querying the database to find similarity with a given embedding. Additionally, it is important to configure and index that can be used to speed up queries. We don't need to do this with ChromaDB because it provides a single index called HNSW. On the other hand, Milvus database provides 12 different index types that can be advantageous for different use cases."
      ]
    },
    {
      "cell_type": "markdown",
      "id": "582fbc21-8647-48e6-9343-0e95638540f6",
      "metadata": {
        "id": "582fbc21-8647-48e6-9343-0e95638540f6"
      },
      "source": [
        "## Install dependencies"
      ]
    },
    {
      "cell_type": "markdown",
      "id": "9189748d-cb87-4066-83ed-8843d49e7118",
      "metadata": {
        "id": "9189748d-cb87-4066-83ed-8843d49e7118"
      },
      "source": [
        "The first step is to install the necessary libraries. In this case we will install the chromadb Python library"
      ]
    },
    {
      "cell_type": "code",
      "execution_count": null,
      "id": "fb3dbdb8-2c89-40b9-a1a5-532401e9ec5a",
      "metadata": {
        "id": "fb3dbdb8-2c89-40b9-a1a5-532401e9ec5a"
      },
      "outputs": [],
      "source": [
        "!pip install chromadb"
      ]
    },
    {
      "cell_type": "markdown",
      "id": "14a89838-296d-4b97-a91f-97552c4a5d0b",
      "metadata": {
        "id": "14a89838-296d-4b97-a91f-97552c4a5d0b"
      },
      "source": [
        "Now we can import the components we need for this lab. The output of queries to the ChromaDB databases is formatted as a JSON structure with several keys and values, so we are going to import \"pprint\" just to make the output more readable."
      ]
    },
    {
      "cell_type": "code",
      "execution_count": null,
      "id": "6ae207cd-f93f-48c5-90ef-ab838e012fe7",
      "metadata": {
        "id": "6ae207cd-f93f-48c5-90ef-ab838e012fe7"
      },
      "outputs": [],
      "source": [
        "import chromadb\n",
        "from pprint import pprint"
      ]
    },
    {
      "cell_type": "markdown",
      "id": "cafe249e-89a8-4c1d-bbc0-fbf691b1defb",
      "metadata": {
        "id": "cafe249e-89a8-4c1d-bbc0-fbf691b1defb"
      },
      "source": [
        "## Connect to Chroma"
      ]
    },
    {
      "cell_type": "markdown",
      "id": "2a9adc3d-9499-48d3-9d61-853041acb43f",
      "metadata": {
        "id": "2a9adc3d-9499-48d3-9d61-853041acb43f"
      },
      "source": [
        "There are two ways to connect to local Chroma DB. If we use \"```Client()```\" it will create an in-memory only database. If we want to persist data to disk we can use \"```PersistentClient()```\". We need to specify in the brackets the directory where the database files will be stored. In this case we are specifying the \"current\" directory, ie the directory from which you you launched Jupyter. After running the command you can check that directory. You should find a file called \"chroma.sqlite3\". This will store a copy of the HSNW index, the embeddings as well as the chunks of documents that the embeddings represent."
      ]
    },
    {
      "cell_type": "code",
      "execution_count": null,
      "id": "b46582ab-3ecc-433f-8533-e4aa557ed1b9",
      "metadata": {
        "id": "b46582ab-3ecc-433f-8533-e4aa557ed1b9"
      },
      "outputs": [],
      "source": [
        "client = chromadb.PersistentClient(path=\".\")"
      ]
    },
    {
      "cell_type": "markdown",
      "id": "baf25f0b-a784-447c-9303-8656a8c74ac1",
      "metadata": {
        "id": "baf25f0b-a784-447c-9303-8656a8c74ac1"
      },
      "source": [
        "## Create a collection and load documents"
      ]
    },
    {
      "cell_type": "markdown",
      "id": "43eb6d62-2a79-4c55-8c55-9388f1574756",
      "metadata": {
        "id": "43eb6d62-2a79-4c55-8c55-9388f1574756"
      },
      "source": [
        "First, you have to create a collection which is similar to the tables in a relational database or to the concept of namespace in other products.\n",
        "\n",
        "Notice the syntax below to \"get or create\" collection. If the collection does exist it will get it, otherwise it will create it. In ChromaDB the embedding model is a property of the \"collection\". So different collections can use different embedding models. This is changed with the \"```embedding_function=\" parameter```. In this exercise we won't specify it, so it will use the default \"```all-MiniLM-L6-v2```\". This is very convenient for quickstarting a project which is where ChromaDB excels."
      ]
    },
    {
      "cell_type": "code",
      "execution_count": null,
      "id": "e33b3df4-ddf8-45b2-8091-3a1f11e2b871",
      "metadata": {
        "id": "e33b3df4-ddf8-45b2-8091-3a1f11e2b871"
      },
      "outputs": [],
      "source": [
        "collection = client.get_or_create_collection(name=\"my_collection\")"
      ]
    },
    {
      "cell_type": "markdown",
      "id": "fccd9ab3-43a9-4f2a-9341-40968fceaa5f",
      "metadata": {
        "id": "fccd9ab3-43a9-4f2a-9341-40968fceaa5f"
      },
      "source": [
        "We can use \"```list_collections()```\" to verify the collection is created"
      ]
    },
    {
      "cell_type": "code",
      "execution_count": null,
      "id": "7c982c98-f316-4ddd-b04d-d01b2cff155d",
      "metadata": {
        "id": "7c982c98-f316-4ddd-b04d-d01b2cff155d"
      },
      "outputs": [],
      "source": [
        "print(client.list_collections())"
      ]
    },
    {
      "cell_type": "markdown",
      "id": "ce474e2f-630b-468b-88cd-ae99986b4c8e",
      "metadata": {
        "id": "ce474e2f-630b-468b-88cd-ae99986b4c8e"
      },
      "source": [
        "Now we are in a position to start loading embeddings into the database, but we would have to create the embeddings first. In our final project we will use a NIM embedding model to create the vector embeddings but ChromaDB supports adding documents directly as well. In this exercise, we will add documents and will let it convert them into the embeddings with the default model.\n",
        "\n",
        "At this point the program will attempt to download the embedding model. It is about 80MB so it should complete quickly"
      ]
    },
    {
      "cell_type": "code",
      "execution_count": null,
      "id": "a1a2cd4a-8e94-41b6-9a48-3f4faef53be3",
      "metadata": {
        "id": "a1a2cd4a-8e94-41b6-9a48-3f4faef53be3"
      },
      "outputs": [],
      "source": [
        "collection.upsert(\n",
        "    documents=[\n",
        "        \"This is a document about pineapples\",\n",
        "        \"This is a document about oranges\",\n",
        "        \"This is a document about planes\",\n",
        "        \"This is a document about cars\"\n",
        "    ],\n",
        "    ids=[\"id1\", \"id2\", \"id3\", \"id4\"]\n",
        ")"
      ]
    },
    {
      "cell_type": "markdown",
      "id": "1f8a69fd-f1aa-42b5-98fe-59e3c754d86d",
      "metadata": {
        "id": "1f8a69fd-f1aa-42b5-98fe-59e3c754d86d"
      },
      "source": [
        "Notice in the previous code how we used \"upsert\" which is the short for \"update\" or \"insert\". In other words, if the documents already exist it will update them, otherwise it will create them. If we used \"add\" instead of \"upsert\" and repeat the same command, it will treat them as separate documents and add them again.\n",
        "\n",
        "When you insert documents you need to make sure the id you provide is unique."
      ]
    },
    {
      "cell_type": "code",
      "execution_count": null,
      "id": "c4a48f60-cb5c-4db7-8822-17c8985a5631",
      "metadata": {
        "id": "c4a48f60-cb5c-4db7-8822-17c8985a5631"
      },
      "outputs": [],
      "source": [
        "print(\"ChromaDB currently contains \", collection.count(), \" items\\n\")"
      ]
    },
    {
      "cell_type": "markdown",
      "id": "134deb68-bf09-454b-8863-3d9f056cd5af",
      "metadata": {
        "id": "134deb68-bf09-454b-8863-3d9f056cd5af"
      },
      "source": [
        "The above code uses the \"```count()```\" method to tell you how many documents there are in the collection"
      ]
    },
    {
      "cell_type": "markdown",
      "id": "f385cd8e-5a50-4235-bd3e-6308991e9056",
      "metadata": {
        "id": "f385cd8e-5a50-4235-bd3e-6308991e9056"
      },
      "source": [
        "Another diagnostic tool is \"```.peek()```\" which allows us to show the first 10 items in the collection. We will use the \"pprint\" function instead of the standard \"print\" so that the output is more readable. Pprint stands for \"Pretty Print\"."
      ]
    },
    {
      "cell_type": "code",
      "execution_count": null,
      "id": "b025beb2-8683-491c-8ffd-fac0c1762453",
      "metadata": {
        "id": "b025beb2-8683-491c-8ffd-fac0c1762453"
      },
      "outputs": [],
      "source": [
        "pprint(collection.peek())"
      ]
    },
    {
      "cell_type": "markdown",
      "id": "1c22073e-d298-4848-8404-150624029aa5",
      "metadata": {
        "id": "1c22073e-d298-4848-8404-150624029aa5"
      },
      "source": [
        "## Query the database"
      ]
    },
    {
      "cell_type": "markdown",
      "id": "a1dfeb70-926f-408c-9f21-9821e9344961",
      "metadata": {
        "id": "a1dfeb70-926f-408c-9f21-9821e9344961"
      },
      "source": [
        "Now we use the \"```query()```\" method to perform a query. Notice how we are requesting the 2 best matches."
      ]
    },
    {
      "cell_type": "code",
      "execution_count": null,
      "id": "7370131d-fe54-4d4c-81bd-5db819988447",
      "metadata": {
        "id": "7370131d-fe54-4d4c-81bd-5db819988447"
      },
      "outputs": [],
      "source": [
        "results = collection.query(\n",
        "    query_texts=[\"I need information about fruits\"], # Chroma will embed this for you\n",
        "    n_results=2 # how many results to return\n",
        ")"
      ]
    },
    {
      "cell_type": "markdown",
      "id": "4975df64-fb09-4057-b0ee-6d79abbe481b",
      "metadata": {
        "id": "4975df64-fb09-4057-b0ee-6d79abbe481b"
      },
      "source": [
        "It should have retrieved 2 documents from the database that are related to our query text. Let's see if the results make sense."
      ]
    },
    {
      "cell_type": "code",
      "execution_count": null,
      "id": "cd338aef-c449-4bdc-9a4d-f21cbe458dba",
      "metadata": {
        "id": "cd338aef-c449-4bdc-9a4d-f21cbe458dba"
      },
      "outputs": [],
      "source": [
        "pprint(results)"
      ]
    },
    {
      "cell_type": "markdown",
      "id": "29101dec-5f36-4b6c-92f0-e511f0a836c9",
      "metadata": {
        "id": "29101dec-5f36-4b6c-92f0-e511f0a836c9"
      },
      "source": [
        "The output should include the documents that are relevant to fruits. Try changing the query about other topics like \"transportation\" and check what output you get.\n",
        "\n",
        "Also, you can add more documents and repeat the queries."
      ]
    },
    {
      "cell_type": "markdown",
      "id": "a0f60356-12bb-4208-a7b6-a5d7e7d1cf7c",
      "metadata": {
        "id": "a0f60356-12bb-4208-a7b6-a5d7e7d1cf7c"
      },
      "source": [
        "## Working with metadata"
      ]
    },
    {
      "cell_type": "markdown",
      "id": "f6e65cde-cff5-466b-8265-0d9d75610523",
      "metadata": {
        "id": "f6e65cde-cff5-466b-8265-0d9d75610523"
      },
      "source": [
        "Now we are going to explore how to leverage metadata to filter results. With the \"upsert\" function we can update existing documents and insert new ones all in one go. We use the \"metadatas\" key to specify the metadata for each record. Both \"documents\" and \"metadatas\" are Python lists, which is a structure where order matters. So the first metadata dictionary in the list corresponds to the first document and so on."
      ]
    },
    {
      "cell_type": "code",
      "execution_count": null,
      "id": "23b00d85-1ba9-4622-b2cb-618a1d7fea8c",
      "metadata": {
        "id": "23b00d85-1ba9-4622-b2cb-618a1d7fea8c"
      },
      "outputs": [],
      "source": [
        "collection.upsert(\n",
        "    documents=[\n",
        "        \"This is a document about pineapples\",\n",
        "        \"This is a document about oranges\",\n",
        "        \"This is a document about coconuts\",\n",
        "        \"This is a document about pears\"\n",
        "    ],\n",
        "    ids=[\"id1\", \"id2\", \"id5\", \"id6\"],\n",
        "    metadatas=[{\"climate\":\"tropical\"},\n",
        "               {\"climate\":\"mediterranean\"},\n",
        "               {\"climate\":\"tropical\"},\n",
        "               {\"climate\":\"mediterranean\"}]\n",
        ")"
      ]
    },
    {
      "cell_type": "markdown",
      "id": "d7b8d3a3-28a6-4995-92c6-96e95788edcb",
      "metadata": {
        "id": "d7b8d3a3-28a6-4995-92c6-96e95788edcb"
      },
      "source": [
        "If we repeat the same query as before we might get fruits from all climates."
      ]
    },
    {
      "cell_type": "code",
      "execution_count": null,
      "id": "e28cd809-b1e7-4e95-85cc-521aa90b3ffc",
      "metadata": {
        "id": "e28cd809-b1e7-4e95-85cc-521aa90b3ffc"
      },
      "outputs": [],
      "source": [
        "results = collection.query(\n",
        "    query_texts=[\"I need information about fruits\"], # Chroma will embed this for you\n",
        "    n_results=2 # how many results to return\n",
        ")\n",
        "\n",
        "pprint(results)"
      ]
    },
    {
      "cell_type": "markdown",
      "id": "943aa933-f633-48d2-a6fc-c8af2a6faecd",
      "metadata": {
        "id": "943aa933-f633-48d2-a6fc-c8af2a6faecd"
      },
      "source": [
        "However, we can use the metadata field to retrieve only \"tropical\" fruits for example"
      ]
    },
    {
      "cell_type": "code",
      "execution_count": null,
      "id": "e5e48101-ca5b-4fdc-b074-96abc0d310a7",
      "metadata": {
        "id": "e5e48101-ca5b-4fdc-b074-96abc0d310a7"
      },
      "outputs": [],
      "source": [
        "results = collection.query(\n",
        "    query_texts=[\"I need information about fruits\"], # Chroma will embed this for you\n",
        "    n_results=2, # how many results to return\n",
        "    where={\"climate\": \"tropical\"}\n",
        ")\n",
        "\n",
        "pprint(results)"
      ]
    },
    {
      "cell_type": "markdown",
      "id": "b8d7a9d5-47a1-4a21-9ddb-fa860ef07906",
      "metadata": {
        "id": "b8d7a9d5-47a1-4a21-9ddb-fa860ef07906"
      },
      "source": [
        "You can experiment further by adding multiple metadatas to each document by simply adding more keys to the dictionaries, ex:\n",
        "\n",
        "```[{\"climate\": \"tropical\", \"colour\": \"yellow\"} ...]```"
      ]
    },
    {
      "cell_type": "markdown",
      "id": "f0bcce70-0d41-409b-84d9-29770c6a2d6b",
      "metadata": {
        "id": "f0bcce70-0d41-409b-84d9-29770c6a2d6b"
      },
      "source": [
        "Can you think how you would use metadatas for a real-world use case at your business?"
      ]
    },
    {
      "cell_type": "markdown",
      "id": "5359022f-c09d-4634-90d9-a9fc39e07c39",
      "metadata": {
        "id": "5359022f-c09d-4634-90d9-a9fc39e07c39"
      },
      "source": [
        "## End of Lab5"
      ]
    }
  ],
  "metadata": {
    "kernelspec": {
      "display_name": "Python 3 (ipykernel)",
      "language": "python",
      "name": "python3"
    },
    "language_info": {
      "codemirror_mode": {
        "name": "ipython",
        "version": 3
      },
      "file_extension": ".py",
      "mimetype": "text/x-python",
      "name": "python",
      "nbconvert_exporter": "python",
      "pygments_lexer": "ipython3",
      "version": "3.10.12"
    },
    "colab": {
      "provenance": [],
      "include_colab_link": true
    }
  },
  "nbformat": 4,
  "nbformat_minor": 5
}